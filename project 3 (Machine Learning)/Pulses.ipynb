{
 "cells": [
  {
   "cell_type": "code",
   "execution_count": 3,
   "metadata": {},
   "outputs": [],
   "source": [
    "import pandas as pd\n",
    "import sklearn.metrics as metrics\n",
    "from sklearn.model_selection import train_test_split\n",
    "from sklearn.ensemble import RandomForestRegressor\n",
    "from sklearn.model_selection import TimeSeriesSplit\n",
    "from sklearn.model_selection import GridSearchCV\n",
    "from sklearn.metrics import make_scorer\n",
    "import numpy as np"
   ]
  },
  {
   "cell_type": "code",
   "execution_count": 6,
   "metadata": {},
   "outputs": [
    {
     "data": {
      "text/html": [
       "<div>\n",
       "<style scoped>\n",
       "    .dataframe tbody tr th:only-of-type {\n",
       "        vertical-align: middle;\n",
       "    }\n",
       "\n",
       "    .dataframe tbody tr th {\n",
       "        vertical-align: top;\n",
       "    }\n",
       "\n",
       "    .dataframe thead th {\n",
       "        text-align: right;\n",
       "    }\n",
       "</style>\n",
       "<table border=\"1\" class=\"dataframe\">\n",
       "  <thead>\n",
       "    <tr style=\"text-align: right;\">\n",
       "      <th></th>\n",
       "      <th>_id</th>\n",
       "      <th>Entity</th>\n",
       "      <th>Code</th>\n",
       "      <th>Pulses</th>\n",
       "    </tr>\n",
       "    <tr>\n",
       "      <th>Year</th>\n",
       "      <th></th>\n",
       "      <th></th>\n",
       "      <th></th>\n",
       "      <th></th>\n",
       "    </tr>\n",
       "  </thead>\n",
       "  <tbody>\n",
       "    <tr>\n",
       "      <th>1976</th>\n",
       "      <td>5f1a1d0557388108b2fc21be</td>\n",
       "      <td>World</td>\n",
       "      <td>OWID_WRL</td>\n",
       "      <td>1350000</td>\n",
       "    </tr>\n",
       "    <tr>\n",
       "      <th>1977</th>\n",
       "      <td>5f1a1d0557388108b2fc21bf</td>\n",
       "      <td>World</td>\n",
       "      <td>OWID_WRL</td>\n",
       "      <td>2060000</td>\n",
       "    </tr>\n",
       "    <tr>\n",
       "      <th>1978</th>\n",
       "      <td>5f1a1d0557388108b2fc21c0</td>\n",
       "      <td>World</td>\n",
       "      <td>OWID_WRL</td>\n",
       "      <td>2140000</td>\n",
       "    </tr>\n",
       "    <tr>\n",
       "      <th>1979</th>\n",
       "      <td>5f1a1d0557388108b2fc21c1</td>\n",
       "      <td>World</td>\n",
       "      <td>OWID_WRL</td>\n",
       "      <td>2290000</td>\n",
       "    </tr>\n",
       "    <tr>\n",
       "      <th>1980</th>\n",
       "      <td>5f1a1d0557388108b2fc21c2</td>\n",
       "      <td>World</td>\n",
       "      <td>OWID_WRL</td>\n",
       "      <td>1940000</td>\n",
       "    </tr>\n",
       "  </tbody>\n",
       "</table>\n",
       "</div>"
      ],
      "text/plain": [
       "                           _id Entity      Code   Pulses\n",
       "Year                                                    \n",
       "1976  5f1a1d0557388108b2fc21be  World  OWID_WRL  1350000\n",
       "1977  5f1a1d0557388108b2fc21bf  World  OWID_WRL  2060000\n",
       "1978  5f1a1d0557388108b2fc21c0  World  OWID_WRL  2140000\n",
       "1979  5f1a1d0557388108b2fc21c1  World  OWID_WRL  2290000\n",
       "1980  5f1a1d0557388108b2fc21c2  World  OWID_WRL  1940000"
      ]
     },
     "execution_count": 6,
     "metadata": {},
     "output_type": "execute_result"
    }
   ],
   "source": [
    "data = pd.read_csv(\"../../microprocessor-clock-speed.csv\")\n",
    "data = data.rename(columns={'Microprocessor clock speed (Hertz (pulses per second))':'Pulses'})\n",
    "data = data.set_index('Year')\n",
    "data.head()"
   ]
  },
  {
   "cell_type": "code",
   "execution_count": 7,
   "metadata": {},
   "outputs": [],
   "source": [
    "def regression_results(y_true, y_pred):\n",
    "    explained_variance=metrics.explained_variance_score(y_true, y_pred)\n",
    "    mean_absolute_error=metrics.mean_absolute_error(y_true, y_pred) \n",
    "    mse=metrics.mean_squared_error(y_true, y_pred) \n",
    "    mean_squared_log_error=metrics.mean_squared_log_error(y_true, y_pred)\n",
    "    median_absolute_error=metrics.median_absolute_error(y_true, y_pred)\n",
    "    r2=metrics.r2_score(y_true, y_pred)\n",
    "    print('explained_variance: ', round(explained_variance,4))    \n",
    "    print('mean_squared_log_error: ', round(mean_squared_log_error,4))\n",
    "    print('r2: ', round(r2,4))\n",
    "    print('MAE: ', round(mean_absolute_error,4))\n",
    "    print('MSE: ', round(mse,4))\n",
    "    print('RMSE: ', round(np.sqrt(mse),4))"
   ]
  },
  {
   "cell_type": "code",
   "execution_count": 8,
   "metadata": {},
   "outputs": [],
   "source": [
    "data = data[['Pulses']]\n",
    "data.loc[:,'t-1'] = data.loc[:,'Pulses'].shift()\n",
    "data.loc[:,'t-1_Diff'] = data.loc[:,'t-1'].diff()\n",
    "data['t-2'] = data['t-1'].shift()\n",
    "data['t-2_Diff'] = data['t-2'].diff()\n",
    "data = data.dropna()"
   ]
  },
  {
   "cell_type": "code",
   "execution_count": 9,
   "metadata": {},
   "outputs": [
    {
     "data": {
      "text/html": [
       "<div>\n",
       "<style scoped>\n",
       "    .dataframe tbody tr th:only-of-type {\n",
       "        vertical-align: middle;\n",
       "    }\n",
       "\n",
       "    .dataframe tbody tr th {\n",
       "        vertical-align: top;\n",
       "    }\n",
       "\n",
       "    .dataframe thead th {\n",
       "        text-align: right;\n",
       "    }\n",
       "</style>\n",
       "<table border=\"1\" class=\"dataframe\">\n",
       "  <thead>\n",
       "    <tr style=\"text-align: right;\">\n",
       "      <th></th>\n",
       "      <th>Pulses</th>\n",
       "      <th>t-1</th>\n",
       "      <th>t-1_Diff</th>\n",
       "      <th>t-2</th>\n",
       "      <th>t-2_Diff</th>\n",
       "    </tr>\n",
       "    <tr>\n",
       "      <th>Year</th>\n",
       "      <th></th>\n",
       "      <th></th>\n",
       "      <th></th>\n",
       "      <th></th>\n",
       "      <th></th>\n",
       "    </tr>\n",
       "  </thead>\n",
       "  <tbody>\n",
       "    <tr>\n",
       "      <th>1979</th>\n",
       "      <td>2290000</td>\n",
       "      <td>2140000.0</td>\n",
       "      <td>80000.0</td>\n",
       "      <td>2060000.0</td>\n",
       "      <td>710000.0</td>\n",
       "    </tr>\n",
       "    <tr>\n",
       "      <th>1980</th>\n",
       "      <td>1940000</td>\n",
       "      <td>2290000.0</td>\n",
       "      <td>150000.0</td>\n",
       "      <td>2140000.0</td>\n",
       "      <td>80000.0</td>\n",
       "    </tr>\n",
       "    <tr>\n",
       "      <th>1981</th>\n",
       "      <td>2410000</td>\n",
       "      <td>1940000.0</td>\n",
       "      <td>-350000.0</td>\n",
       "      <td>2290000.0</td>\n",
       "      <td>150000.0</td>\n",
       "    </tr>\n",
       "    <tr>\n",
       "      <th>1982</th>\n",
       "      <td>2630000</td>\n",
       "      <td>2410000.0</td>\n",
       "      <td>470000.0</td>\n",
       "      <td>1940000.0</td>\n",
       "      <td>-350000.0</td>\n",
       "    </tr>\n",
       "    <tr>\n",
       "      <th>1983</th>\n",
       "      <td>4070000</td>\n",
       "      <td>2630000.0</td>\n",
       "      <td>220000.0</td>\n",
       "      <td>2410000.0</td>\n",
       "      <td>470000.0</td>\n",
       "    </tr>\n",
       "  </tbody>\n",
       "</table>\n",
       "</div>"
      ],
      "text/plain": [
       "       Pulses        t-1  t-1_Diff        t-2  t-2_Diff\n",
       "Year                                                   \n",
       "1979  2290000  2140000.0   80000.0  2060000.0  710000.0\n",
       "1980  1940000  2290000.0  150000.0  2140000.0   80000.0\n",
       "1981  2410000  1940000.0 -350000.0  2290000.0  150000.0\n",
       "1982  2630000  2410000.0  470000.0  1940000.0 -350000.0\n",
       "1983  4070000  2630000.0  220000.0  2410000.0  470000.0"
      ]
     },
     "execution_count": 9,
     "metadata": {},
     "output_type": "execute_result"
    }
   ],
   "source": [
    "data.head()"
   ]
  },
  {
   "cell_type": "code",
   "execution_count": 10,
   "metadata": {},
   "outputs": [],
   "source": [
    "X = data.drop(['Pulses'], axis = 1)\n",
    "y = data['Pulses']"
   ]
  },
  {
   "cell_type": "code",
   "execution_count": 11,
   "metadata": {},
   "outputs": [],
   "source": [
    "X_train, X_test, y_train, y_test = train_test_split(X, y, random_state=1)"
   ]
  },
  {
   "cell_type": "code",
   "execution_count": 12,
   "metadata": {},
   "outputs": [],
   "source": [
    "def rmse(actual, predict):\n",
    "    predict = np.array(predict)\n",
    "    actual = np.array(actual)\n",
    "    distance = predict - actual\n",
    "    square_distance = distance ** 2\n",
    "    mean_square_distance = square_distance.mean()\n",
    "    score = np.sqrt(mean_square_distance)\n",
    "    return score\n",
    "rmse_score = make_scorer(rmse, greater_is_better = False)"
   ]
  },
  {
   "cell_type": "code",
   "execution_count": 13,
   "metadata": {},
   "outputs": [
    {
     "name": "stdout",
     "output_type": "stream",
     "text": [
      "explained_variance:  0.9113\n",
      "mean_squared_log_error:  1.3161\n",
      "r2:  0.9021\n",
      "MAE:  446954250.0\n",
      "MSE:  4.432480159782499e+17\n",
      "RMSE:  665768740.6136\n"
     ]
    }
   ],
   "source": [
    "model = RandomForestRegressor()\n",
    "param_search = { \n",
    "    'n_estimators': [20, 50, 100],\n",
    "    'max_features': ['auto', 'sqrt', 'log2'],\n",
    "    'max_depth' : [i for i in range(5,15)]\n",
    "}\n",
    "tscv = TimeSeriesSplit(n_splits=10)\n",
    "gsearch = GridSearchCV(estimator=model, cv=tscv, param_grid=param_search, scoring = rmse_score)\n",
    "gsearch.fit(X_train, y_train)\n",
    "best_score = gsearch.best_score_\n",
    "best_model = gsearch.best_estimator_\n",
    "y_true = y_test.values\n",
    "y_pred = best_model.predict(X_test)\n",
    "regression_results(y_true, y_pred)"
   ]
  },
  {
   "cell_type": "code",
   "execution_count": 14,
   "metadata": {},
   "outputs": [],
   "source": [
    "next_value = {\n",
    "    'Year':2017,\n",
    "    't-1':28751000000,\n",
    "    't-1_Diff':9403000000,\n",
    "    't-2':19348000000,\n",
    "    't-2_Diff':7837000000\n",
    "}"
   ]
  },
  {
   "cell_type": "code",
   "execution_count": 15,
   "metadata": {},
   "outputs": [
    {
     "data": {
      "text/html": [
       "<div>\n",
       "<style scoped>\n",
       "    .dataframe tbody tr th:only-of-type {\n",
       "        vertical-align: middle;\n",
       "    }\n",
       "\n",
       "    .dataframe tbody tr th {\n",
       "        vertical-align: top;\n",
       "    }\n",
       "\n",
       "    .dataframe thead th {\n",
       "        text-align: right;\n",
       "    }\n",
       "</style>\n",
       "<table border=\"1\" class=\"dataframe\">\n",
       "  <thead>\n",
       "    <tr style=\"text-align: right;\">\n",
       "      <th></th>\n",
       "      <th>t-1</th>\n",
       "      <th>t-1_Diff</th>\n",
       "      <th>t-2</th>\n",
       "      <th>t-2_Diff</th>\n",
       "    </tr>\n",
       "    <tr>\n",
       "      <th>Year</th>\n",
       "      <th></th>\n",
       "      <th></th>\n",
       "      <th></th>\n",
       "      <th></th>\n",
       "    </tr>\n",
       "  </thead>\n",
       "  <tbody>\n",
       "    <tr>\n",
       "      <th>2017</th>\n",
       "      <td>28751000000</td>\n",
       "      <td>9403000000</td>\n",
       "      <td>19348000000</td>\n",
       "      <td>7837000000</td>\n",
       "    </tr>\n",
       "  </tbody>\n",
       "</table>\n",
       "</div>"
      ],
      "text/plain": [
       "              t-1    t-1_Diff          t-2    t-2_Diff\n",
       "Year                                                  \n",
       "2017  28751000000  9403000000  19348000000  7837000000"
      ]
     },
     "execution_count": 15,
     "metadata": {},
     "output_type": "execute_result"
    }
   ],
   "source": [
    "next_value = pd.DataFrame(data=next_value, index=['0'])\n",
    "next_value = next_value.set_index('Year')\n",
    "next_value"
   ]
  },
  {
   "cell_type": "code",
   "execution_count": 16,
   "metadata": {
    "scrolled": true
   },
   "outputs": [
    {
     "data": {
      "text/plain": [
       "array([2.561655e+10])"
      ]
     },
     "execution_count": 16,
     "metadata": {},
     "output_type": "execute_result"
    }
   ],
   "source": [
    "best_model.predict(next_value)"
   ]
  },
  {
   "cell_type": "code",
   "execution_count": 17,
   "metadata": {},
   "outputs": [],
   "source": [
    "import pickle"
   ]
  },
  {
   "cell_type": "code",
   "execution_count": 18,
   "metadata": {},
   "outputs": [],
   "source": [
    "filename = 'pulses.sav'\n",
    "pickle.dump(best_model, open(filename, 'wb'))\n"
   ]
  },
  {
   "cell_type": "code",
   "execution_count": 21,
   "metadata": {},
   "outputs": [
    {
     "data": {
      "text/html": [
       "<div>\n",
       "<style scoped>\n",
       "    .dataframe tbody tr th:only-of-type {\n",
       "        vertical-align: middle;\n",
       "    }\n",
       "\n",
       "    .dataframe tbody tr th {\n",
       "        vertical-align: top;\n",
       "    }\n",
       "\n",
       "    .dataframe thead th {\n",
       "        text-align: right;\n",
       "    }\n",
       "</style>\n",
       "<table border=\"1\" class=\"dataframe\">\n",
       "  <thead>\n",
       "    <tr style=\"text-align: right;\">\n",
       "      <th></th>\n",
       "      <th>t-1</th>\n",
       "      <th>t-1_Diff</th>\n",
       "      <th>t-2</th>\n",
       "      <th>t-2_Diff</th>\n",
       "    </tr>\n",
       "    <tr>\n",
       "      <th>Year</th>\n",
       "      <th></th>\n",
       "      <th></th>\n",
       "      <th></th>\n",
       "      <th></th>\n",
       "    </tr>\n",
       "  </thead>\n",
       "  <tbody>\n",
       "    <tr>\n",
       "      <th>2007</th>\n",
       "      <td>5.631000e+09</td>\n",
       "      <td>4.580000e+08</td>\n",
       "      <td>5.173000e+09</td>\n",
       "      <td>1.183000e+09</td>\n",
       "    </tr>\n",
       "    <tr>\n",
       "      <th>1982</th>\n",
       "      <td>2.410000e+06</td>\n",
       "      <td>4.700000e+05</td>\n",
       "      <td>1.940000e+06</td>\n",
       "      <td>-3.500000e+05</td>\n",
       "    </tr>\n",
       "    <tr>\n",
       "      <th>1998</th>\n",
       "      <td>1.842800e+08</td>\n",
       "      <td>4.378000e+07</td>\n",
       "      <td>1.405000e+08</td>\n",
       "      <td>6.246000e+07</td>\n",
       "    </tr>\n",
       "    <tr>\n",
       "      <th>2003</th>\n",
       "      <td>2.317000e+09</td>\n",
       "      <td>6.330000e+08</td>\n",
       "      <td>1.684000e+09</td>\n",
       "      <td>1.270320e+09</td>\n",
       "    </tr>\n",
       "    <tr>\n",
       "      <th>2002</th>\n",
       "      <td>1.684000e+09</td>\n",
       "      <td>1.270320e+09</td>\n",
       "      <td>4.136800e+08</td>\n",
       "      <td>7.668000e+07</td>\n",
       "    </tr>\n",
       "    <tr>\n",
       "      <th>2001</th>\n",
       "      <td>4.136800e+08</td>\n",
       "      <td>7.668000e+07</td>\n",
       "      <td>3.370000e+08</td>\n",
       "      <td>1.527200e+08</td>\n",
       "    </tr>\n",
       "    <tr>\n",
       "      <th>1999</th>\n",
       "      <td>3.370000e+08</td>\n",
       "      <td>1.527200e+08</td>\n",
       "      <td>1.842800e+08</td>\n",
       "      <td>4.378000e+07</td>\n",
       "    </tr>\n",
       "    <tr>\n",
       "      <th>1997</th>\n",
       "      <td>1.405000e+08</td>\n",
       "      <td>6.246000e+07</td>\n",
       "      <td>7.804000e+07</td>\n",
       "      <td>2.466000e+07</td>\n",
       "    </tr>\n",
       "  </tbody>\n",
       "</table>\n",
       "</div>"
      ],
      "text/plain": [
       "               t-1      t-1_Diff           t-2      t-2_Diff\n",
       "Year                                                        \n",
       "2007  5.631000e+09  4.580000e+08  5.173000e+09  1.183000e+09\n",
       "1982  2.410000e+06  4.700000e+05  1.940000e+06 -3.500000e+05\n",
       "1998  1.842800e+08  4.378000e+07  1.405000e+08  6.246000e+07\n",
       "2003  2.317000e+09  6.330000e+08  1.684000e+09  1.270320e+09\n",
       "2002  1.684000e+09  1.270320e+09  4.136800e+08  7.668000e+07\n",
       "2001  4.136800e+08  7.668000e+07  3.370000e+08  1.527200e+08\n",
       "1999  3.370000e+08  1.527200e+08  1.842800e+08  4.378000e+07\n",
       "1997  1.405000e+08  6.246000e+07  7.804000e+07  2.466000e+07"
      ]
     },
     "execution_count": 21,
     "metadata": {},
     "output_type": "execute_result"
    }
   ],
   "source": [
    "X_test.head(20)"
   ]
  },
  {
   "cell_type": "code",
   "execution_count": 19,
   "metadata": {},
   "outputs": [
    {
     "name": "stdout",
     "output_type": "stream",
     "text": [
      "0.9020988485514694\n"
     ]
    }
   ],
   "source": [
    "filename = 'pulses.sav'\n",
    "loaded_model = pickle.load(open(filename, 'rb'))\n",
    "result = loaded_model.score(X_test, y_test)\n",
    "print(result)"
   ]
  },
  {
   "cell_type": "code",
   "execution_count": 30,
   "metadata": {},
   "outputs": [
    {
     "data": {
      "text/plain": [
       "Pulses      2.875100e+10\n",
       "t-1         1.934800e+10\n",
       "t-1_Diff    7.837000e+09\n",
       "t-2         1.151100e+10\n",
       "t-2_Diff    4.772000e+09\n",
       "Name: 2016, dtype: float64"
      ]
     },
     "execution_count": 30,
     "metadata": {},
     "output_type": "execute_result"
    }
   ],
   "source": [
    "data.iloc[len(data)-1]"
   ]
  },
  {
   "cell_type": "code",
   "execution_count": 33,
   "metadata": {},
   "outputs": [],
   "source": [
    "last_year = data.iloc[len(data)-1]"
   ]
  },
  {
   "cell_type": "code",
   "execution_count": 54,
   "metadata": {
    "scrolled": true
   },
   "outputs": [],
   "source": [
    "last_year_index = list(data.index)[len(data) -1]"
   ]
  },
  {
   "cell_type": "code",
   "execution_count": 55,
   "metadata": {},
   "outputs": [],
   "source": [
    "new_t_minus_1 = last_year[\"Pulses\"]\n",
    "new_t_diff = last_year[\"Pulses\"] - last_year[\"t-1\"]\n",
    "new_t_minus_2 = last_year[\"t-1\"]\n",
    "new_t_diff_2 = last_year[\"t-1\"] - last_year[\"t-2\"]"
   ]
  },
  {
   "cell_type": "code",
   "execution_count": 56,
   "metadata": {},
   "outputs": [
    {
     "data": {
      "text/plain": [
       "9403000000.0"
      ]
     },
     "execution_count": 56,
     "metadata": {},
     "output_type": "execute_result"
    }
   ],
   "source": [
    "new_t_diff"
   ]
  },
  {
   "cell_type": "code",
   "execution_count": 57,
   "metadata": {},
   "outputs": [
    {
     "data": {
      "text/plain": [
       "7837000000.0"
      ]
     },
     "execution_count": 57,
     "metadata": {},
     "output_type": "execute_result"
    }
   ],
   "source": [
    "new_t_diff_2"
   ]
  },
  {
   "cell_type": "code",
   "execution_count": 59,
   "metadata": {},
   "outputs": [],
   "source": [
    "def createNewYearDF(last_year, last_year_index):\n",
    "    new_t_minus_1 = last_year[\"Pulses\"]\n",
    "    new_t_diff = last_year[\"Pulses\"] - last_year[\"t-1\"]\n",
    "    new_t_minus_2 = last_year[\"t-1\"]\n",
    "    new_t_diff_2 = last_year[\"t-1\"] - last_year[\"t-2\"]\n",
    "    return pd.DataFrame({\n",
    "        \"year\": last_year_index+1,\n",
    "        \"t-1\": new_t_minus_1,\n",
    "        \"t-1_Diff\": new_t_diff,\n",
    "        \"t-2\": new_t_minus_2,\n",
    "        \"t-2_Diff\": new_t_diff_2\n",
    "    },index=['0']).set_index(\"year\")\n",
    "\n"
   ]
  },
  {
   "cell_type": "code",
   "execution_count": 60,
   "metadata": {},
   "outputs": [
    {
     "data": {
      "text/html": [
       "<div>\n",
       "<style scoped>\n",
       "    .dataframe tbody tr th:only-of-type {\n",
       "        vertical-align: middle;\n",
       "    }\n",
       "\n",
       "    .dataframe tbody tr th {\n",
       "        vertical-align: top;\n",
       "    }\n",
       "\n",
       "    .dataframe thead th {\n",
       "        text-align: right;\n",
       "    }\n",
       "</style>\n",
       "<table border=\"1\" class=\"dataframe\">\n",
       "  <thead>\n",
       "    <tr style=\"text-align: right;\">\n",
       "      <th></th>\n",
       "      <th>t-1</th>\n",
       "      <th>t-1_Diff</th>\n",
       "      <th>t-2</th>\n",
       "      <th>t-2_Diff</th>\n",
       "    </tr>\n",
       "    <tr>\n",
       "      <th>year</th>\n",
       "      <th></th>\n",
       "      <th></th>\n",
       "      <th></th>\n",
       "      <th></th>\n",
       "    </tr>\n",
       "  </thead>\n",
       "  <tbody>\n",
       "    <tr>\n",
       "      <th>2017</th>\n",
       "      <td>2.875100e+10</td>\n",
       "      <td>9.403000e+09</td>\n",
       "      <td>1.934800e+10</td>\n",
       "      <td>7.837000e+09</td>\n",
       "    </tr>\n",
       "  </tbody>\n",
       "</table>\n",
       "</div>"
      ],
      "text/plain": [
       "               t-1      t-1_Diff           t-2      t-2_Diff\n",
       "year                                                        \n",
       "2017  2.875100e+10  9.403000e+09  1.934800e+10  7.837000e+09"
      ]
     },
     "execution_count": 60,
     "metadata": {},
     "output_type": "execute_result"
    }
   ],
   "source": [
    "new_year_df = createNewYearDF(last_year, last_year_index)\n",
    "new_year_df"
   ]
  },
  {
   "cell_type": "code",
   "execution_count": 61,
   "metadata": {},
   "outputs": [],
   "source": [
    "new_pulses = best_model.predict(new_year_df)\n",
    "new_year_index = new_year_df.index[0]"
   ]
  },
  {
   "cell_type": "code",
   "execution_count": 62,
   "metadata": {},
   "outputs": [],
   "source": [
    "services_body = {\n",
    "        \"year\": new_year_index,\n",
    "        \"Pulses\": new_pulses,\n",
    "        \"t-1\": new_t_minus_1,\n",
    "        \"t-1_Diff\": new_t_diff,\n",
    "        \"t-2\": new_t_minus_2,\n",
    "        \"t-2_Diff\": new_t_diff_2\n",
    "}"
   ]
  },
  {
   "cell_type": "code",
   "execution_count": 63,
   "metadata": {},
   "outputs": [
    {
     "data": {
      "text/plain": [
       "{'year': 2017,\n",
       " 'Pulses': array([2.561655e+10]),\n",
       " 't-1': 28751000000.0,\n",
       " 't-1_Diff': 9403000000.0,\n",
       " 't-2': 19348000000.0,\n",
       " 't-2_Diff': 7837000000.0}"
      ]
     },
     "execution_count": 63,
     "metadata": {},
     "output_type": "execute_result"
    }
   ],
   "source": [
    "services_body"
   ]
  },
  {
   "cell_type": "code",
   "execution_count": null,
   "metadata": {},
   "outputs": [],
   "source": []
  }
 ],
 "metadata": {
  "kernelspec": {
   "display_name": "Python 3",
   "language": "python",
   "name": "python3"
  },
  "language_info": {
   "codemirror_mode": {
    "name": "ipython",
    "version": 3
   },
   "file_extension": ".py",
   "mimetype": "text/x-python",
   "name": "python",
   "nbconvert_exporter": "python",
   "pygments_lexer": "ipython3",
   "version": "3.8.5"
  }
 },
 "nbformat": 4,
 "nbformat_minor": 2
}
